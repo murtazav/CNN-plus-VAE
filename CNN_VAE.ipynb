{
  "nbformat": 4,
  "nbformat_minor": 0,
  "metadata": {
    "colab": {
      "name": "CNN_VAE.ipynb",
      "version": "0.3.2",
      "provenance": [],
      "include_colab_link": true
    },
    "kernelspec": {
      "name": "python3",
      "display_name": "Python 3"
    }
  },
  "cells": [
    {
      "cell_type": "markdown",
      "metadata": {
        "id": "view-in-github",
        "colab_type": "text"
      },
      "source": [
        "<a href=\"https://colab.research.google.com/github/murtazav/CNN-plus-VAE/blob/master/CNN_VAE.ipynb\" target=\"_parent\"><img src=\"https://colab.research.google.com/assets/colab-badge.svg\" alt=\"Open In Colab\"/></a>"
      ]
    },
    {
      "metadata": {
        "id": "dmWhM6E7Bil5",
        "colab_type": "text"
      },
      "cell_type": "markdown",
      "source": [
        "![alt text](https://worldmodels.github.io/assets/conv_vae_label.svg)\n"
      ]
    },
    {
      "metadata": {
        "id": "9pVdk9lQBgBQ",
        "colab_type": "code",
        "colab": {}
      },
      "cell_type": "code",
      "source": [
        "import numpy as np\n",
        "import tensorflow as tf"
      ],
      "execution_count": 0,
      "outputs": []
    },
    {
      "metadata": {
        "id": "4zcLgFPS5vLl",
        "colab_type": "code",
        "colab": {}
      },
      "cell_type": "code",
      "source": [
        "class CNN_VAE(object):\n",
        "  def __init(self, z_size=1024, batch_size=1, learning_rate=0.0001, kl_tolerance=0.5, is_training=False, reuse=False, gpu_mode=False):\n",
        "    \"\"\"\n",
        "    z_size=size of the latent vector\n",
        "    kl_tolerance=Kullback Leiber loss\n",
        "    reuse=for using variable scope of tensorflow\n",
        "    \"\"\"\n",
        "    self.z_size = z_size\n",
        "    self.batch_size = batch_size\n",
        "    self.learning_rate = learning_rate\n",
        "    self.kl_tolerance = kl_tolerance\n",
        "    self.is_training = is_training\n",
        "    self.reuse = reuse\n",
        "    with tf.variable_scope('convolutional_vae', reuse=self.reuse):\n",
        "      if not gpu_mode:\n",
        "        tf.logging.info('On GPU')\n",
        "        self._build_graph() \n",
        "      else:\n",
        "        with tf.device('/cpu:0'):\n",
        "          tf.logging.info('On CPU')\n",
        "          self._build_graph()\n",
        "\n",
        "    self._init_session()"
      ],
      "execution_count": 0,
      "outputs": []
    },
    {
      "metadata": {
        "id": "TQZa2-q87hUS",
        "colab_type": "code",
        "colab": {}
      },
      "cell_type": "code",
      "source": [
        "  def _build_graph(self):\n",
        "    self.g = tf.Graph()\n",
        "    with self.g.as_default():\n",
        "      self.x = tf.placeholder(tf.float32, shape=[None, 64, 64, 3])\n",
        "      # Building the Encoder part of the VAE\n",
        "      h = tf.layers.conv2d(self.x, 32, 4, strides=2, activation=tf.nn.relu, name=\"enc_conv1\")\n",
        "      h = tf.layers.conv2d(h, 64, 4, strides=2, activation=tf.nn.relu, name=\"enc_conv2\")\n",
        "      h = tf.layers.conv2d(h, 128, 4, strides=2, activation=tf.nn.relu, name=\"enc_conv3\")\n",
        "      h = tf.layers.conv2d(h, 256, 4, strides=2, activation=tf.nn.relu, name=\"enc_conv4\")\n",
        "      h = tf.reshape(h, [-1, 4*256])\n",
        "      # Building the \"V\" part of the VAE\n",
        "      self.mu = tf.layers.dense(h, self.z_size, name=\"enc_fc_mu\")\n",
        "      self.logvar = tf.layers.dense(h, self.z_size, name=\"enc_fc_log_var\")\n",
        "      self.sigma = tf.exp(self.logvar / 2.0)\n",
        "      self.epsilon = tf.random_normal([self.batch_size, self.z_size])\n",
        "      self.z = self.mu + self.sigma * self.epsilon\n",
        "      # Building the Decoder part of the VAE\n",
        "      h = tf.layers.dense(self.z, 1024, name=\"dec_fc\")\n",
        "      h = tf.reshape(h, [-1, 1, 1, 1024])\n",
        "      h = tf.layers.conv2d_transpose(h, 128, 5, strides=2, activation=tf.nn.relu, name=\"dec_deconv1\")\n",
        "      h = tf.layers.conv2d_transpose(h, 64, 5, strides=2, activation=tf.nn.relu, name=\"dec_deconv2\")\n",
        "      h = tf.layers.conv2d_transpose(h, 32, 6, strides=2, activation=tf.nn.relu, name=\"dec_deconv3\")\n",
        "      self.y = tf.layers.conv2d_transpose(h, 3, 6, strides=2, activation=tf.nn.sigmoid, name=\"dec_deconv4\")\n",
        "      # Implementing the training operations\n",
        "      if self.is_training:\n",
        "        self.global_step = tf.Variable(0, name='global step', trainable=False)\n",
        "        self.r_loss = tf.reduce_sum(tf.square(self.x - self.y), reduction_indices = [1,2,3])\n",
        "        self.r_loss = tf.reduce_mean(self.r_loss)\n",
        "        # Implementing KL_loss\n",
        "        self.kl_loss = - 0.5 * tf.reduce_sum((1 + self.logvar - tf.square(self.mu) - tf.exp(self.logvar)), reduction_indices = 1)\n",
        "        self.kl_loss = tf.maximum(self.kl_loss, self.kl_tolerance * self.z_size)\n",
        "        self.kl_loss = tf.reduce_mean(self.kl_loss)\n",
        "        self.loss = self.r_loss + self.kl_loss\n",
        "        self.lr = tf.Variable(self.learning_rate, trainable=False)\n",
        "        self.optimizer = tf.train.AdamOptimizer(self.lr)\n",
        "        grads = self.optimizer.compute_gradients(self.loss)\n",
        "        self.train_op = self.optimizer.apply_gradients(grads, global_step=self.global_step, name='train_step')\n",
        "      self.init = tf.global_variables_initializer()"
      ],
      "execution_count": 0,
      "outputs": []
    },
    {
      "metadata": {
        "id": "5_zfJK208mee",
        "colab_type": "code",
        "colab": {}
      },
      "cell_type": "code",
      "source": [
        ""
      ],
      "execution_count": 0,
      "outputs": []
    },
    {
      "metadata": {
        "id": "Ff0bfDHKBeEk",
        "colab_type": "code",
        "colab": {}
      },
      "cell_type": "code",
      "source": [
        ""
      ],
      "execution_count": 0,
      "outputs": []
    }
  ]
}